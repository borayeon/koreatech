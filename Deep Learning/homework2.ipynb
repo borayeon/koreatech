{
 "cells": [
  {
   "cell_type": "markdown",
   "id": "d981cc3c-4fad-4713-9965-0e5cb4dcc920",
   "metadata": {
    "collapsed": true,
    "jupyter": {
     "outputs_hidden": true
    }
   },
   "source": [
    "## 요구사항2\n",
    "### titanic 데이터에 맞게 수정한 코드"
   ]
  },
  {
   "cell_type": "code",
   "execution_count": 1,
   "id": "ae5aa5f4-951a-4e48-934a-adf934b91c73",
   "metadata": {
    "ExecuteTime": {
     "end_time": "2023-10-15T09:04:18.004808200Z",
     "start_time": "2023-10-15T09:04:17.510308600Z"
    },
    "collapsed": false,
    "jupyter": {
     "outputs_hidden": false
    }
   },
   "outputs": [],
   "source": [
    "import torch\n",
    "from torch import nn, optim\n",
    "from torch.utils.data import random_split, DataLoader\n",
    "from datetime import datetime\n",
    "import wandb\n",
    "import argparse\n",
    "# 루트 경로 설정!\n",
    "from pathlib import Path\n",
    "BASE_PATH = str(Path(\" \").resolve().parent.parent.parent) # BASE_PATH: /Users/yhhan/git/link_dl\n",
    "# 루트 경로 추가!\n",
    "import sys\n",
    "sys.path.append(BASE_PATH)"
   ]
  },
  {
   "cell_type": "code",
   "execution_count": 2,
   "id": "224bd86a-1c64-43e7-8ba4-f2ca15f52d57",
   "metadata": {
    "ExecuteTime": {
     "end_time": "2023-10-15T09:04:18.004808200Z",
     "start_time": "2023-10-15T09:04:17.510308600Z"
    },
    "collapsed": false,
    "jupyter": {
     "outputs_hidden": false
    }
   },
   "outputs": [],
   "source": [
    "# import Titanic dataset!\n",
    "from _02_homeworks._02_fcn_dl.titanic.titanic_dataset\\\n",
    "  import get_preprocessed_dataset"
   ]
  },
  {
   "cell_type": "code",
   "execution_count": 3,
   "id": "cfabeca0-7fd4-4dfc-8740-ac4c61b81aa0",
   "metadata": {
    "ExecuteTime": {
     "end_time": "2023-10-15T09:04:18.004808200Z",
     "start_time": "2023-10-15T09:04:17.510308600Z"
    },
    "collapsed": false,
    "jupyter": {
     "outputs_hidden": false
    }
   },
   "outputs": [],
   "source": [
    "# dataset 가져오기!\n",
    "def get_data():\n",
    "# 클래스 변수 선언!\n",
    "  #titanic_dataset = get_preprocessed_dataset()\n",
    "  #print(titanic_dataset)\n",
    "\n",
    "# 데이터 불러오기\n",
    "  train_dataset, validation_dataset, test_dataset = get_preprocessed_dataset()\n",
    "  print(len(train_dataset), len(validation_dataset), len(test_dataset))\n",
    "# 데이터를 배치 사이즈로 셔플해서 불러오기\n",
    "  train_data_loader = DataLoader(dataset=train_dataset, batch_size=wandb.config.batch_size, shuffle=True)\n",
    "  validation_data_loader = DataLoader(dataset=validation_dataset, batch_size=len(validation_dataset))\n",
    "  test_data_loader = DataLoader(dataset=test_dataset, batch_size=len(test_dataset))\n",
    "# 셔플한 데이터 호출\n",
    "  return train_data_loader, validation_data_loader, test_data_loader"
   ]
  },
  {
   "cell_type": "code",
   "execution_count": 4,
   "id": "be2ecd46-58e4-4bca-a475-b5aad660d2cf",
   "metadata": {
    "ExecuteTime": {
     "end_time": "2023-10-15T09:04:18.004808200Z",
     "start_time": "2023-10-15T09:04:17.510308600Z"
    },
    "collapsed": false,
    "jupyter": {
     "outputs_hidden": false
    }
   },
   "outputs": [],
   "source": [
    "# 내 모델(요구사항 2 변경x)\n",
    "class MyModel(nn.Module):\n",
    "  def __init__(self, n_input, n_output):\n",
    "    super().__init__()\n",
    "\n",
    "    self.model = nn.Sequential(\n",
    "      nn.Linear(n_input, wandb.config.n_hidden_unit_list[0]),\n",
    "      nn.ELU(),\n",
    "      nn.Linear(wandb.config.n_hidden_unit_list[0], wandb.config.n_hidden_unit_list[1]),\n",
    "      nn.ReLU(),\n",
    "      nn.Linear(wandb.config.n_hidden_unit_list[1], n_output),\n",
    "    )\n",
    "\n",
    "  def forward(self, x):\n",
    "    x = self.model(x)\n",
    "    return x"
   ]
  },
  {
   "cell_type": "code",
   "execution_count": 5,
   "id": "1a96dfd1-ccc6-4998-bb47-be7f0d7c9223",
   "metadata": {
    "ExecuteTime": {
     "end_time": "2023-10-15T09:04:18.004808200Z",
     "start_time": "2023-10-15T09:04:17.510308600Z"
    },
    "collapsed": false,
    "jupyter": {
     "outputs_hidden": false
    }
   },
   "outputs": [],
   "source": [
    "# 모델 가져와서 최적화하기\n",
    "def get_model_and_optimizer():\n",
    "  # 나의 모델의 입력값가 출력값을 11과 1로 설정\n",
    "  my_model = MyModel(n_input=9, n_output=1)\n",
    "  optimizer = optim.SGD(my_model.parameters(), lr=wandb.config.learning_rate)\n",
    "\n",
    "  return my_model, optimizer"
   ]
  },
  {
   "cell_type": "code",
   "execution_count": 6,
   "id": "c7b2fe72-d049-46fc-b3bb-2bd3a6c86c94",
   "metadata": {
    "ExecuteTime": {
     "end_time": "2023-10-15T09:04:18.004808200Z",
     "start_time": "2023-10-15T09:04:17.510308600Z"
    },
    "collapsed": false,
    "jupyter": {
     "outputs_hidden": false
    }
   },
   "outputs": [],
   "source": [
    "# 모델 반복\n",
    "def training_loop(model, optimizer, train_data_loader, validation_data_loader):\n",
    "  # 전체 학습 = 1회 ==> 횟수\n",
    "  n_epochs = 1000\n",
    "  # 함수를 객체화\n",
    "  loss_fn = nn.MSELoss()  # Use a built-in loss function\n",
    "  # 100마다 출력\n",
    "  next_print_epoch = 100\n",
    "\n",
    "  for epoch in range(1, n_epochs + 1):\n",
    "    # 훈련 손실 및 데이터 개수 초기화\n",
    "    loss_train = 0.0\n",
    "    num_trains = 0\n",
    "    # 미니배치 가져와서\n",
    "    for train_batch in train_data_loader:\n",
    "      # 예측값 계산\n",
    "      # input_size = train_batch['input'].shape\n",
    "      # target_size = train_batch['target'].shape\n",
    "      #\n",
    "      # print(f\"Input size: {input_size}, Target size: {target_size}\")\n",
    "      output_train = model(train_batch['input'])\n",
    "      target_train = train_batch['target'].unsqueeze(1).float()  # 형태를 [10]에서 [10, 1]로 변경\n",
    "      loss = loss_fn(output_train, target_train)\n",
    "      #print(loss)\n",
    "      # output_train = model(train_batch['input'])\n",
    "      # print(output_train)\n",
    "      # # 손실 확인\n",
    "      #loss = loss_fn(output_train, train_batch['target'])\n",
    "      # # 미니 배치 손실 누적\n",
    "      loss_train += loss.item()\n",
    "      # 훈련 횟수 증가\n",
    "      num_trains += 1\n",
    "\n",
    "      # 경사하강법 -> 모델 파라미터 업데이트\n",
    "      optimizer.zero_grad()\n",
    "      loss.backward()\n",
    "      optimizer.step()\n",
    "\n",
    "    loss_validation = 0.0\n",
    "    num_validations = 0\n",
    "    # 그래디언트 비활성화\n",
    "    with torch.no_grad():\n",
    "      for validation_batch in validation_data_loader:\n",
    "        output_validation = model(validation_batch['input'])\n",
    "        target_validation = validation_batch['target'].unsqueeze(1).float()  # 형태를 [10]에서 [10, 1]로 변경\n",
    "        loss = loss_fn(output_validation, target_validation)\n",
    "\n",
    "        # output_validation = model(validation_batch['input'])\n",
    "        # loss = loss_fn(output_validation, validation_batch['target'])\n",
    "        loss_validation += loss.item()\n",
    "        num_validations += 1\n",
    "\n",
    "    # 기록\n",
    "    wandb.log({\n",
    "      \"Epoch\": epoch,\n",
    "      \"Training loss\": loss_train / num_trains,\n",
    "      \"Validation loss\": loss_validation / num_validations\n",
    "    })\n",
    "\n",
    "    if epoch >= next_print_epoch:\n",
    "      print(\n",
    "        f\"Epoch {epoch}, \"\n",
    "        f\"Training loss {loss_train / num_trains:.4f}, \"\n",
    "        f\"Validation loss {loss_validation / num_validations:.4f}\"\n",
    "      )\n",
    "      next_print_epoch += 100"
   ]
  },
  {
   "cell_type": "code",
   "execution_count": 7,
   "id": "604f832d-c996-4e1b-aad5-d81bc24790f8",
   "metadata": {
    "ExecuteTime": {
     "end_time": "2023-10-15T09:04:18.004808200Z",
     "start_time": "2023-10-15T09:04:17.510308600Z"
    },
    "collapsed": false,
    "jupyter": {
     "outputs_hidden": false
    }
   },
   "outputs": [],
   "source": [
    "# 테스트 코드 추가하기\n",
    "def test(test_data_loader):\n",
    "  import pandas as pd\n",
    "  print(\"[TEST]\")\n",
    "  batch = next(iter(test_data_loader))\n",
    "  #print(\"!!!!!!!!\")\n",
    "  #print(batch)\n",
    "  print(\"{0}\".format(batch['input'].shape))\n",
    "  my_model = MyModel(n_input=9, n_output=2)\n",
    "  output_batch = my_model(batch['input'])\n",
    "  prediction_batch = torch.argmax(output_batch, dim=1)\n",
    "\n",
    "  results = []\n",
    "  output_path = 'predictions.csv'\n",
    "  for idx, prediction in enumerate(prediction_batch, start=892):\n",
    "    results.append([idx, prediction.item()])\n",
    "\n",
    "    # 결과를 데이터프레임으로 변환\n",
    "  df = pd.DataFrame(results, columns=['Index', 'Prediction'])\n",
    "\n",
    "    # CSV 파일로 저장\n",
    "  df.to_csv(output_path, index=False)\n",
    "  # 예측 결과를 저장할 파일 경로"
   ]
  },
  {
   "cell_type": "code",
   "execution_count": 8,
   "id": "76c48d1c-fcc4-4f05-9111-edc733f4299f",
   "metadata": {
    "ExecuteTime": {
     "end_time": "2023-10-15T09:04:18.004808200Z",
     "start_time": "2023-10-15T09:04:17.510308600Z"
    },
    "collapsed": false,
    "jupyter": {
     "outputs_hidden": false
    }
   },
   "outputs": [],
   "source": [
    "def main(args):\n",
    "  # 현재 시간 출력\n",
    "  current_time_str = datetime.now().astimezone().strftime('%Y-%m-%d_%H-%M-%S')\n",
    "  # 몇번 학습했는지\n",
    "  # 배치 사이즈는 얼마인지\n",
    "  # 학습률은 얼마인지\n",
    "  # 숨겨진 유닛의 개수는 몇개인지\n",
    "  config = {\n",
    "    'epochs': args.epochs,\n",
    "    'batch_size': args.batch_size,\n",
    "    'learning_rate': 1e-3,\n",
    "    'n_hidden_unit_list': [20, 20],\n",
    "  }\n",
    "  # wnadb 사용\n",
    "  wandb.init(\n",
    "    mode=\"online\",#if args.wandb else \"disabled\",\n",
    "    project=\"titanic_test\",\n",
    "    notes=\"titanic_test\",\n",
    "    tags=[\"my_model\", \"titanic\"],\n",
    "    name=current_time_str,\n",
    "    config=config\n",
    "  )\n",
    "  #\n",
    "  #print(\"!!\")\n",
    "  print(args)\n",
    "  print(wandb.config)\n",
    "  #print(\"!!\")\n",
    "  # 배치로 셔플한 데이터 가져오기\n",
    "  train_data_loader, validation_data_loader, test_data_loader = get_data()\n",
    "  # 모델 최적화 및 가져오기 입력 11개 출력 1개로 변경\n",
    "  linear_model, optimizer = get_model_and_optimizer()\n",
    "  #wandb로 출력하기\n",
    "  wandb.watch(linear_model)\n",
    "\n",
    "  print(\"#\" * 50, 1)\n",
    "\n",
    "  training_loop(\n",
    "    model=linear_model,\n",
    "    optimizer=optimizer,\n",
    "    train_data_loader=train_data_loader,\n",
    "    validation_data_loader=validation_data_loader\n",
    "  )\n",
    "\n",
    "  test(test_data_loader)\n",
    "\n",
    "  wandb.finish()"
   ]
  },
  {
   "cell_type": "code",
   "execution_count": 9,
   "id": "b224cd8f-d96b-4fc0-be1a-477389f4e512",
   "metadata": {
    "ExecuteTime": {
     "end_time": "2023-10-15T09:04:18.004808200Z",
     "start_time": "2023-10-15T09:04:17.510308600Z"
    },
    "collapsed": false,
    "jupyter": {
     "outputs_hidden": false
    }
   },
   "outputs": [
    {
     "name": "stderr",
     "output_type": "stream",
     "text": [
      "usage: ipykernel_launcher.py [-h] [--wandb | --no-wandb] [-b BATCH_SIZE] [-e EPOCHS]\n",
      "ipykernel_launcher.py: error: unrecognized arguments: -f C:\\Users\\태경\\AppData\\Roaming\\jupyter\\runtime\\kernel-e465a587-2871-47d1-a197-a00723e90625.json\n"
     ]
    },
    {
     "ename": "SystemExit",
     "evalue": "2",
     "output_type": "error",
     "traceback": [
      "An exception has occurred, use %tb to see the full traceback.\n",
      "\u001b[1;31mSystemExit\u001b[0m\u001b[1;31m:\u001b[0m 2\n"
     ]
    },
    {
     "name": "stderr",
     "output_type": "stream",
     "text": [
      "Z:\\Program Files\\anaconda3\\envs\\link_dl\\lib\\site-packages\\IPython\\core\\interactiveshell.py:3534: UserWarning: To exit: use 'exit', 'quit', or Ctrl-D.\n",
      "  warn(\"To exit: use 'exit', 'quit', or Ctrl-D.\", stacklevel=1)\n"
     ]
    }
   ],
   "source": [
    "# https://docs.wandb.ai/guides/track/config\n",
    "if __name__ == \"__main__\":\n",
    "  parser = argparse.ArgumentParser()\n",
    "\n",
    "  parser.add_argument(\n",
    "    \"--wandb\", action=argparse.BooleanOptionalAction, default=False, help=\"True or False\"\n",
    "  )\n",
    "\n",
    "  parser.add_argument(\n",
    "    \"-b\", \"--batch_size\", type=int, default=512, help=\"Batch size (int, default: 512)\"\n",
    "  )\n",
    "\n",
    "  parser.add_argument(\n",
    "    \"-e\", \"--epochs\", type=int, default=1_000, help=\"Number of training epochs (int, default:1_000)\"\n",
    "  )\n",
    "\n",
    "  args = parser.parse_args()\n",
    "\n",
    "  main(args)"
   ]
  },
  {
   "cell_type": "markdown",
   "id": "da166a2c-29c9-4c1a-b096-e876d53664ea",
   "metadata": {
    "collapsed": false,
    "jupyter": {
     "outputs_hidden": false
    }
   },
   "source": [
    "### Wandb로 그래프 얻기"
   ]
  },
  {
   "cell_type": "markdown",
   "id": "0fdffa14-2f88-4013-8a76-93a8d5ca2fce",
   "metadata": {},
   "source": [
    "https://wandb.ai/taeya/titanic_test?workspace=user-taeya"
   ]
  },
  {
   "cell_type": "markdown",
   "id": "22066c73-9f0d-49d7-89f2-872c8fb5d062",
   "metadata": {},
   "source": [
    "### 모델 구성내에 더 나은 성능을 산출하는 함수 찾기"
   ]
  },
  {
   "cell_type": "markdown",
   "id": "a0b86553-ccae-46c6-af19-212322a034c4",
   "metadata": {},
   "source": [
    "nn.ELU()와 nn.ReLU() 를 같이 사용하는 코드가 좀 더 나은 성능을 산출하였음."
   ]
  },
  {
   "cell_type": "markdown",
   "id": "53c6ce08-7888-4202-a261-6995a4089187",
   "metadata": {},
   "source": [
    "## 요구사항 3"
   ]
  },
  {
   "cell_type": "markdown",
   "id": "b2268440-6672-4325-a75f-ffa3b7faa047",
   "metadata": {},
   "source": [
    "훈련 과정 중 어느 에포크 시점에 테스트를 수행해야하는가?"
   ]
  },
  {
   "cell_type": "markdown",
   "id": "9886734d-a4da-4feb-918b-ab280e480f36",
   "metadata": {},
   "source": [
    "테스트를 수행함에 있어 적절한 에포크 타임은 직접 시도하면서 너무 많지도 너무 적지도 않은 순간에 csv를 산출해야한다."
   ]
  },
  {
   "cell_type": "markdown",
   "id": "23482a85-2495-47e9-a01e-79b8f0d1212e",
   "metadata": {},
   "source": [
    "너무 적거나 많은 에포크는 오히려 성능을 줄이는 원인이 될 수 있다."
   ]
  },
  {
   "cell_type": "markdown",
   "id": "a1d7cb3a-84c1-4945-a831-4e7880f71ec1",
   "metadata": {},
   "source": [
    "## 요구사항 4"
   ]
  },
  {
   "cell_type": "markdown",
   "id": "59a4e46d-8f67-4260-a159-4c47e909ef2e",
   "metadata": {},
   "source": [
    "https://drive.google.com/file/d/18IxbTF-GBAgB_A0gC36lJM4Fyy2Mlqd9/view?usp=sharing"
   ]
  },
  {
   "cell_type": "markdown",
   "id": "6663aa9f-98cb-4f22-8034-6b5d4d91651d",
   "metadata": {},
   "source": [
    "사진 넣는법을 모르겠기에 이렇게 넣습니다.."
   ]
  },
  {
   "cell_type": "markdown",
   "id": "d0516213-b009-4559-8c9f-eb29603d24ab",
   "metadata": {},
   "source": [
    "wandb url 제출"
   ]
  },
  {
   "cell_type": "markdown",
   "id": "845f3a2a-db30-4de6-b9d0-291b1892ef8a",
   "metadata": {},
   "source": [
    "https://wandb.ai/taeya/titanic_test/runs/w0nnphly?workspace=user-taeya"
   ]
  },
  {
   "cell_type": "markdown",
   "id": "0fb51198-e189-4a30-82ad-894761664c20",
   "metadata": {},
   "source": [
    "숙제 후기"
   ]
  },
  {
   "cell_type": "markdown",
   "id": "e008630c-3a1b-4e4d-8952-25e9d6ac347c",
   "metadata": {},
   "source": [
    "딥러닝 과제를 수행하면서 교수님이 주신 코드를 해석하는 과정에서 딥러닝에 대해서 이해가 안되던 부분들에 대해 다시 상기하면 공부할 수 있는 기회를 얻었고 이를통해서 그저 수업을 들었을 때와 다르게 직접 시험하면서 실력을 향상을 할 수 있는 계기가 되었다.\n",
    "특히 코드를 다른 데이터로 수정할 때 어려움이 있었으나 시간을 투자하여 이를 해결할 수 있었다."
   ]
  },
  {
   "cell_type": "code",
   "execution_count": null,
   "id": "beb4824c-df9d-4659-97c6-96bfdd8922f3",
   "metadata": {},
   "outputs": [],
   "source": []
  }
 ],
 "metadata": {
  "kernelspec": {
   "display_name": "Python 3 (ipykernel)",
   "language": "python",
   "name": "python3"
  },
  "language_info": {
   "codemirror_mode": {
    "name": "ipython",
    "version": 3
   },
   "file_extension": ".py",
   "mimetype": "text/x-python",
   "name": "python",
   "nbconvert_exporter": "python",
   "pygments_lexer": "ipython3",
   "version": "3.10.12"
  }
 },
 "nbformat": 4,
 "nbformat_minor": 5
}
